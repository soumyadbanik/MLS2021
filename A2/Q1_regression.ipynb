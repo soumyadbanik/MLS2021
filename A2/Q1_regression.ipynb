{
 "cells": [
  {
   "cell_type": "markdown",
   "metadata": {},
   "source": [
    "***SOUMYADEEP BANIK***<br>\n",
    "***CS-2***"
   ]
  },
  {
   "cell_type": "code",
   "execution_count": 39,
   "metadata": {},
   "outputs": [],
   "source": [
    "# import necessary modules\n",
    "import numpy as np\n",
    "import matplotlib.pyplot as plt\n",
    "import house_sales_data as hd\n",
    "import pandas as pd\n",
    "from sklearn.model_selection import train_test_split"
   ]
  },
  {
   "cell_type": "code",
   "execution_count": 33,
   "metadata": {},
   "outputs": [],
   "source": [
    "## Sacramento house price data; load\n",
    "data = hd.house_sales_data() \n",
    "#print(data.price())\n",
    "\n",
    "## Get the target (i.e., price) and two features\n",
    "# price = ...\n",
    "# area = ...\n",
    "# beds = ...\n",
    "price = data[\"price\"]\n",
    "beds = data[\"beds\"]\n",
    "area = data[\"area\"]\n",
    "df_house_data = pd.DataFrame({\"area1\":area, \"price1\":price}, columns=[\"area1\", \"price1\"])\n",
    "x = df_house_data[\"area1\"].values\n",
    "y = df_house_data[\"price1\"].values"
   ]
  },
  {
   "cell_type": "code",
   "execution_count": 34,
   "metadata": {},
   "outputs": [],
   "source": [
    "# Implement gradient descent (NOT SGD, just simple GD!)\n",
    "def gradient_descent(X, y, max_iteration, learning_rate=1.0):\n",
    "    m, n = X.shape\n",
    "    theta = np.zeros(n)\n",
    "    costs = np.zeros(max_iteration)\n",
    "    # now complete ...\n",
    "    for t in range(max_iteration):\n",
    "        grad = np.zeros(n)\n",
    "        for i in range(m):\n",
    "            y_hat = X[i] @ theta     #multiplying the X matrix with theta col. vector i.e x[i][j]*theta[j]\n",
    "            costs[t] += 1/m * (y_hat - y[i])**2\n",
    "            for j in range(n):\n",
    "                grad[j] += 1/m * 2 * (y_hat - y[i])*X[i,j]\n",
    "        theta -= learning_rate * grad\n",
    "    return theta, costs"
   ]
  },
  {
   "cell_type": "code",
   "execution_count": 35,
   "metadata": {},
   "outputs": [],
   "source": [
    "# Normalize data \n",
    "def normalize_data(X, y, normalize_cols):\n",
    "    min_X = X[:,normalize_cols].min(axis=0)\n",
    "    max_X = X[:,normalize_cols].max(axis=0)\n",
    "    min_y = y.min()\n",
    "    max_y = y.max()\n",
    "    X[:,normalize_cols] = (X[:,normalize_cols] - min_X) / (max_X - min_X)\n",
    "    y[:] = (y - min_y) / (max_y - min_y)\n",
    "    return min_X, max_X, min_y, max_y"
   ]
  },
  {
   "cell_type": "code",
   "execution_count": 36,
   "metadata": {},
   "outputs": [],
   "source": [
    "# Implement an evaluation metric for regression\n",
    "def evaluation_metric(y,y_hat):\n",
    "    return np.sqrt(np.mean(np.square(y-y_hat)))   #RMSE VALUE"
   ]
  },
  {
   "cell_type": "code",
   "execution_count": 41,
   "metadata": {},
   "outputs": [
    {
     "ename": "ValueError",
     "evalue": "not enough values to unpack (expected 6, got 4)",
     "output_type": "error",
     "traceback": [
      "\u001b[1;31m---------------------------------------------------------------------------\u001b[0m",
      "\u001b[1;31mValueError\u001b[0m                                Traceback (most recent call last)",
      "\u001b[1;32m<ipython-input-41-0158a072a74a>\u001b[0m in \u001b[0;36m<module>\u001b[1;34m\u001b[0m\n\u001b[0;32m      2\u001b[0m \u001b[0mX_train\u001b[0m \u001b[1;33m=\u001b[0m \u001b[0mnp\u001b[0m\u001b[1;33m.\u001b[0m\u001b[0mhstack\u001b[0m\u001b[1;33m(\u001b[0m\u001b[1;33m(\u001b[0m\u001b[0marea\u001b[0m\u001b[1;33m[\u001b[0m\u001b[1;33m:\u001b[0m\u001b[1;33m,\u001b[0m\u001b[0mnp\u001b[0m\u001b[1;33m.\u001b[0m\u001b[0mnewaxis\u001b[0m\u001b[1;33m]\u001b[0m\u001b[1;33m,\u001b[0m \u001b[0mbeds\u001b[0m\u001b[1;33m[\u001b[0m\u001b[1;33m:\u001b[0m\u001b[1;33m,\u001b[0m\u001b[0mnp\u001b[0m\u001b[1;33m.\u001b[0m\u001b[0mnewaxis\u001b[0m\u001b[1;33m]\u001b[0m\u001b[1;33m,\u001b[0m \u001b[0mnp\u001b[0m\u001b[1;33m.\u001b[0m\u001b[0mones\u001b[0m\u001b[1;33m(\u001b[0m\u001b[0marea\u001b[0m\u001b[1;33m.\u001b[0m\u001b[0mshape\u001b[0m\u001b[1;33m[\u001b[0m\u001b[1;36m0\u001b[0m\u001b[1;33m]\u001b[0m\u001b[1;33m)\u001b[0m\u001b[1;33m[\u001b[0m\u001b[1;33m:\u001b[0m\u001b[1;33m,\u001b[0m\u001b[0mnp\u001b[0m\u001b[1;33m.\u001b[0m\u001b[0mnewaxis\u001b[0m\u001b[1;33m]\u001b[0m\u001b[1;33m)\u001b[0m\u001b[1;33m)\u001b[0m\u001b[1;33m\u001b[0m\u001b[1;33m\u001b[0m\u001b[0m\n\u001b[0;32m      3\u001b[0m \u001b[0my_train\u001b[0m \u001b[1;33m=\u001b[0m \u001b[0mprice\u001b[0m\u001b[1;33m\u001b[0m\u001b[1;33m\u001b[0m\u001b[0m\n\u001b[1;32m----> 4\u001b[1;33m \u001b[0mX\u001b[0m\u001b[1;33m,\u001b[0m \u001b[0my\u001b[0m\u001b[1;33m,\u001b[0m \u001b[0mmin_X\u001b[0m\u001b[1;33m,\u001b[0m \u001b[0mmax_X\u001b[0m\u001b[1;33m,\u001b[0m \u001b[0mmin_y\u001b[0m\u001b[1;33m,\u001b[0m \u001b[0mmax_y\u001b[0m \u001b[1;33m=\u001b[0m \u001b[0mnormalize_data\u001b[0m\u001b[1;33m(\u001b[0m\u001b[0mX_train\u001b[0m\u001b[1;33m,\u001b[0m \u001b[0my_train\u001b[0m\u001b[1;33m,\u001b[0m \u001b[1;33m[\u001b[0m\u001b[1;32mTrue\u001b[0m\u001b[1;33m,\u001b[0m \u001b[1;32mTrue\u001b[0m\u001b[1;33m,\u001b[0m \u001b[1;32mFalse\u001b[0m\u001b[1;33m]\u001b[0m\u001b[1;33m)\u001b[0m\u001b[1;33m\u001b[0m\u001b[1;33m\u001b[0m\u001b[0m\n\u001b[0m\u001b[0;32m      5\u001b[0m \u001b[0mX_train\u001b[0m\u001b[1;33m,\u001b[0m \u001b[0mX_test\u001b[0m\u001b[1;33m,\u001b[0m \u001b[0my_train\u001b[0m\u001b[1;33m,\u001b[0m \u001b[0my_test\u001b[0m \u001b[1;33m=\u001b[0m \u001b[0mtrain_test_split\u001b[0m\u001b[1;33m(\u001b[0m\u001b[0mX\u001b[0m\u001b[1;33m,\u001b[0m \u001b[0my\u001b[0m\u001b[1;33m,\u001b[0m \u001b[0mtest_size\u001b[0m\u001b[1;33m=\u001b[0m\u001b[1;36m0.2\u001b[0m\u001b[1;33m,\u001b[0m \u001b[0mrandom_state\u001b[0m\u001b[1;33m=\u001b[0m\u001b[1;36m42\u001b[0m\u001b[1;33m)\u001b[0m\u001b[1;33m\u001b[0m\u001b[1;33m\u001b[0m\u001b[0m\n",
      "\u001b[1;31mValueError\u001b[0m: not enough values to unpack (expected 6, got 4)"
     ]
    }
   ],
   "source": [
    "# Prepare data this way\n",
    "X_train = np.hstack((area[:,np.newaxis], beds[:,np.newaxis], np.ones(area.shape[0])[:,np.newaxis]))\n",
    "y_train = price\n",
    "X, y, min_X, max_X, min_y, max_y = normalize_data(X_train, y_train, [True, True, False])\n",
    "X_train, X_test, y_train, y_test = train_test_split(X, y, test_size=0.2, random_state=42)"
   ]
  },
  {
   "cell_type": "code",
   "execution_count": 22,
   "metadata": {},
   "outputs": [],
   "source": [
    "# call gradient descent and fine-tune your learning rate\n"
   ]
  },
  {
   "cell_type": "code",
   "execution_count": 38,
   "metadata": {},
   "outputs": [
    {
     "data": {
      "text/plain": [
       "Text(0, 0.5, 'Cost')"
      ]
     },
     "execution_count": 38,
     "metadata": {},
     "output_type": "execute_result"
    },
    {
     "data": {
      "image/png": "[encoded data removed]",
      "text/plain": [
       "<Figure size 432x288 with 1 Axes>"
      ]
     },
     "metadata": {
      "needs_background": "light"
     },
     "output_type": "display_data"
    }
   ],
   "source": [
    "# plot cost vs iterations \n",
    "# note gradient descent return costs for all iterations\n",
    "def gradient_descent_cost(iters):\n",
    "    x_nor = (x - min(x)) / (max(x) - min(x))\n",
    "    y_nor = (y - min(y)) / (max(y) - min(y))\n",
    "    cost = []\n",
    "    theta = np.array([0., 0.])\n",
    "    alpha = 1.0\n",
    "    for t in range(iters):\n",
    "        theta[0] = alpha/len(x) * 2 * sum((theta[0] * x_nor + theta[1] - y_nor)*x_nor)\n",
    "        theta[1] = alpha/len(x) * 2 * sum((theta[0] * x_nor + theta[1] - y_nor) )\n",
    "        cost.append(np.mean((theta[0] * x_nor + theta[1] - y_nor)**2))\n",
    "        theta[0] -= alpha/len(x) * 2 * sum((theta[0] * x_nor + theta[1] - y_nor)*x_nor)\n",
    "        theta[1] -= alpha/len(x) * 2 * sum((theta[0] * x_nor + theta[1] - y_nor) )\n",
    "    return np.array(cost)\n",
    "\n",
    "\n",
    "plt.plot(np.arange(0,100), gradient_descent_cost(100))\n",
    "plt.xlabel(\"Iteration\")\n",
    "plt.ylabel(\"Cost\")"
   ]
  },
  {
   "cell_type": "code",
   "execution_count": null,
   "metadata": {},
   "outputs": [],
   "source": [
    "# print evaluation metric for test set while \n",
    "# changing max_iteration from 500 to 2000\n",
    "# Note the best value of evaluation metric you get"
   ]
  },
  {
   "cell_type": "code",
   "execution_count": 47,
   "metadata": {},
   "outputs": [],
   "source": [
    "# compare your solution with scikit-learn library\n",
    "from sklearn import datasets, linear_model\n",
    "from sklearn.linear_model import LinearRegression"
   ]
  },
  {
   "cell_type": "code",
   "execution_count": 51,
   "metadata": {},
   "outputs": [],
   "source": [
    "# Create linear regression object\n",
    "order = np.random.permutation(len(x))\n",
    "portion = 20\n",
    "test_x = x[order[:portion]]\n",
    "test_y = y[order[:portion]]\n",
    "train_x = x[order[portion:]]\n",
    "train_y = y[order[portion:]]\n",
    "lin_reg=LinearRegression()"
   ]
  },
  {
   "cell_type": "code",
   "execution_count": 54,
   "metadata": {},
   "outputs": [
    {
     "ename": "ValueError",
     "evalue": "Expected 2D array, got 1D array instead:\narray=[1.315 2.214 0.8   1.505 2.142 1.578 1.08  1.45  1.207 1.473 1.416 1.69\n 3.468 2.724 0.904 1.337 1.968 0.795 1.202 1.58  1.582 1.531 1.89  1.3\n 1.284 2.346 1.188 1.272 1.302 1.462 1.713 1.185 1.058 2.347 3.508 1.69\n 0.975 1.638 1.41  2.734 1.993 0.984 1.089 1.609 2.155 2.187 1.811 2.877\n 3.984 1.348 1.139 1.174 1.672 2.096 3.863 1.627 1.094 1.605 1.302 1.555\n 3.192 1.386 1.022 1.81  1.936 3.433 2.577 2.093 3.173 1.419 1.646 0.81\n 1.472 1.739 1.118 1.249 1.25  1.808 1.112 1.08  1.497 0.81  1.939 1.795\n 1.206 1.685 1.636 1.543 1.67  1.356 0.844 1.137 0.8   1.074 2.457 2.555\n 1.302 1.067 1.01  1.277 1.448 1.32  1.574 2.379 1.83  1.207 1.715 1.566\n 1.843 1.12  1.448 1.603 1.326 1.718 1.104 1.52  1.187 1.324 1.012 1.962\n 1.367 2.258 1.74  1.511 0.796 1.83  1.714 1.543 1.321 1.401 1.285 1.202\n 1.344 1.051 1.093 1.991 1.488 1.65  2.605 1.37  1.011 2.295 0.901 1.229\n 1.59  0.966 1.587 2.494 1.616 0.972 3.397 1.265 2.254 1.15  1.843 1.039\n 1.159 1.064 1.127 2.359 1.007 1.156 2.875 3.229 2.711 0.958 1.424 1.655\n 2.494 1.915 1.12  2.372 1.25  1.522 1.261 3.056 1.953 1.677 0.9   0.96\n 3.261 1.17  1.159 1.477 1.34  3.357 1.724 1.162 1.498 0.682 0.99  2.491\n 1.12  1.8   0.539 1.503 0.756 1.22  1.152 2.66  1.582 0.861 1.306 1.416\n 1.291 1.    1.029 0.876 2.212 1.309 0.804 1.441 1.479 2.28  1.104 1.343\n 2.508 1.52  1.1   1.154 2.96  4.303 1.477 1.478 1.276 1.28  1.216 1.169\n 1.119 1.12  1.502 1.452 0.722 1.161 1.06  3.389 1.905 1.176 1.638 1.828\n 1.451 1.939 2.962 2.354 1.08  1.099 1.567 2.068 1.406 1.41  3.599 1.13\n 1.586 1.092 2.159 0.96  1.446 1.212 1.516 3.788 1.981 1.38  1.57  1.182\n 1.606 1.892 0.96  1.329 1.253 1.351 1.639 0.61  2.606 1.232 1.735 0.97\n 1.596 1.479 3.281 1.172 2.356 1.296 0.779 1.006 1.51  1.16  1.77  1.74\n 1.11  1.341 1.591 1.443 0.868 1.58  1.089 0.988 2.462 1.438 0.95  1.289\n 1.685 0.904 1.258 3.164 1.317 1.08  2.484 1.24  2.367 3.741 1.331 2.169\n 1.235 0.904 1.716 1.32  2.17  0.984 0.911 2.846 3.07  1.876 1.517 2.004\n 1.164 1.529 1.329 2.55  1.982 1.485 1.541 2.126 1.436 1.273 2.28  1.211\n 1.204 3.615 1.904 2.163 1.669 1.264 1.294 3.579 1.872 1.146 1.032 1.24\n 1.43  1.371 0.881 1.463 1.043 1.671 1.376 1.152 2.824 1.475 2.309 3.516\n 1.45  1.174 0.888 1.77  1.524 2.11  1.527 0.941 0.962 2.111 2.222 1.039\n 1.616 2.053 1.721 1.697 1.953 2.724 1.587 0.967 2.334 1.04  0.796 1.098\n 1.316 0.723 2.056 1.418 1.204 1.41  1.082 1.462 1.856 2.185 0.963 1.174\n 1.176 1.092 1.188 1.857 1.712 1.255 1.41  0.932 1.401 1.457 1.032 1.917\n 1.189 3.134 1.152 1.91  1.116 1.418 1.073 1.31  1.266 1.921 1.851 1.37\n 1.199 1.082 1.058 1.955 1.144 1.751 1.338 2.109 0.623 1.362 1.643 1.82\n 1.144 2.687 1.577 0.746 1.375 2.79  1.247 1.341 1.838 1.04  1.857 1.653\n 0.884 2.274 1.638 0.832 1.36  0.958 0.838 2.494 0.918 1.103 1.816 1.54\n 2.787 0.625 1.567 1.269 1.264 0.888 1.915 2.278 1.914 1.305 1.776 1.219\n 2.592 1.02  1.695 1.139 2.1   1.727 1.356 1.393 1.516 1.158 0.906 1.457\n 1.559 0.78  0.936 0.795 0.924 1.876 2.575 2.725 2.235 1.1   1.72  2.503\n 0.964 0.864 1.574 2.581 1.089 1.691 1.    1.266 1.392 2.016 1.104 1.768\n 1.253 1.593 1.448 0.901 1.416 0.846 1.12  1.4   1.304 3.838 1.039 2.325\n 1.595 1.12  1.362 2.447 1.608 2.169 1.638 1.789 1.42  1.056 0.972 0.952\n 1.269 2.109 1.179 1.196 1.659 0.76  1.776 1.65  1.381 2.504 1.265 1.366\n 1.439 1.217 1.358 1.456 1.623 1.112 0.93  3.26  2.166 0.933 1.304 1.088\n 0.924 2.896 1.28  1.127 1.011 1.232 3.746 1.406 1.477 2.16  1.549 1.39\n 1.38  1.258 1.882 1.449 1.108 1.59  1.292 1.132 3.134 1.829 1.248 1.711\n 0.97  1.262 1.248 1.94  1.209 2.329 1.354 1.144 1.394 0.888 1.328 1.656\n 1.411 1.013 1.351 1.548 1.252 0.994 2.056 2.306 1.888 1.428 0.924 1.32\n 1.117 1.188 1.115 1.512 1.319 1.427 0.834 1.758 1.601 1.637 0.722 2.484\n 1.407 2.789 1.598 0.795 1.124 1.075 0.795 1.12  1.483 1.621 1.799 1.051\n 1.177 1.506 1.961 2.054 1.766 1.193 2.367 1.287 1.146 2.175 2.258 1.127\n 1.52  3.992 1.289 1.245 1.269 3.881 1.922 1.08  1.466 1.262 1.436 2.002\n 1.093 0.998 1.14  1.26  1.231 1.801 1.887 1.452 1.628 1.004 1.468 0.99\n 1.358 2.136 2.218 1.44  0.956 1.928 1.12  2.846 2.607 1.134 0.611 1.373\n 1.354 1.36  2.372 1.9   0.696 2.085 1.844 1.851 1.595 1.115 3.037 2.03\n 1.183 1.28  1.678 1.327 2.724 1.45  2.992 1.428 1.364 2.442 0.84  1.353\n 1.216 1.596 1.329 2.8   1.126 1.676 0.795 2.161 0.909 1.715 1.039 3.44\n 1.871 1.899 1.392 1.123 3.44  1.009 1.788 2.199 2.205 4.246 2.052 2.212\n 1.175 1.157 1.676 0.588 2.172 3.076 2.307 1.358 1.039 0.904 1.139 1.382\n 0.836 1.41  1.683 1.465 1.871 1.736 1.328 1.578 1.513 1.144 1.082 1.8\n 0.722 1.8   0.957 2.049 1.686 1.05  1.456 1.59  2.652 1.555].\nReshape your data either using array.reshape(-1, 1) if your data has a single feature or array.reshape(1, -1) if it contains a single sample.",
     "output_type": "error",
     "traceback": [
      "\u001b[1;31m---------------------------------------------------------------------------\u001b[0m",
      "\u001b[1;31mValueError\u001b[0m                                Traceback (most recent call last)",
      "\u001b[1;32m<ipython-input-54-d1f728b659cf>\u001b[0m in \u001b[0;36m<module>\u001b[1;34m\u001b[0m\n\u001b[0;32m      1\u001b[0m \u001b[1;31m# Train the model using the training sets\u001b[0m\u001b[1;33m\u001b[0m\u001b[1;33m\u001b[0m\u001b[1;33m\u001b[0m\u001b[0m\n\u001b[1;32m----> 2\u001b[1;33m \u001b[0mlin_reg\u001b[0m\u001b[1;33m.\u001b[0m\u001b[0mfit\u001b[0m\u001b[1;33m(\u001b[0m\u001b[0mtrain_x\u001b[0m\u001b[1;33m,\u001b[0m \u001b[0mtrain_y\u001b[0m\u001b[1;33m)\u001b[0m\u001b[1;33m\u001b[0m\u001b[1;33m\u001b[0m\u001b[0m\n\u001b[0m",
      "\u001b[1;32mc:\\users\\soumyadbanik\\appdata\\local\\programs\\python\\python37\\lib\\site-packages\\sklearn\\linear_model\\_base.py\u001b[0m in \u001b[0;36mfit\u001b[1;34m(self, X, y, sample_weight)\u001b[0m\n\u001b[0;32m    517\u001b[0m \u001b[1;33m\u001b[0m\u001b[0m\n\u001b[0;32m    518\u001b[0m         X, y = self._validate_data(X, y, accept_sparse=accept_sparse,\n\u001b[1;32m--> 519\u001b[1;33m                                    y_numeric=True, multi_output=True)\n\u001b[0m\u001b[0;32m    520\u001b[0m \u001b[1;33m\u001b[0m\u001b[0m\n\u001b[0;32m    521\u001b[0m         \u001b[1;32mif\u001b[0m \u001b[0msample_weight\u001b[0m \u001b[1;32mis\u001b[0m \u001b[1;32mnot\u001b[0m \u001b[1;32mNone\u001b[0m\u001b[1;33m:\u001b[0m\u001b[1;33m\u001b[0m\u001b[1;33m\u001b[0m\u001b[0m\n",
      "\u001b[1;32mc:\\users\\soumyadbanik\\appdata\\local\\programs\\python\\python37\\lib\\site-packages\\sklearn\\base.py\u001b[0m in \u001b[0;36m_validate_data\u001b[1;34m(self, X, y, reset, validate_separately, **check_params)\u001b[0m\n\u001b[0;32m    431\u001b[0m                 \u001b[0my\u001b[0m \u001b[1;33m=\u001b[0m \u001b[0mcheck_array\u001b[0m\u001b[1;33m(\u001b[0m\u001b[0my\u001b[0m\u001b[1;33m,\u001b[0m \u001b[1;33m**\u001b[0m\u001b[0mcheck_y_params\u001b[0m\u001b[1;33m)\u001b[0m\u001b[1;33m\u001b[0m\u001b[1;33m\u001b[0m\u001b[0m\n\u001b[0;32m    432\u001b[0m             \u001b[1;32melse\u001b[0m\u001b[1;33m:\u001b[0m\u001b[1;33m\u001b[0m\u001b[1;33m\u001b[0m\u001b[0m\n\u001b[1;32m--> 433\u001b[1;33m                 \u001b[0mX\u001b[0m\u001b[1;33m,\u001b[0m \u001b[0my\u001b[0m \u001b[1;33m=\u001b[0m \u001b[0mcheck_X_y\u001b[0m\u001b[1;33m(\u001b[0m\u001b[0mX\u001b[0m\u001b[1;33m,\u001b[0m \u001b[0my\u001b[0m\u001b[1;33m,\u001b[0m \u001b[1;33m**\u001b[0m\u001b[0mcheck_params\u001b[0m\u001b[1;33m)\u001b[0m\u001b[1;33m\u001b[0m\u001b[1;33m\u001b[0m\u001b[0m\n\u001b[0m\u001b[0;32m    434\u001b[0m             \u001b[0mout\u001b[0m \u001b[1;33m=\u001b[0m \u001b[0mX\u001b[0m\u001b[1;33m,\u001b[0m \u001b[0my\u001b[0m\u001b[1;33m\u001b[0m\u001b[1;33m\u001b[0m\u001b[0m\n\u001b[0;32m    435\u001b[0m \u001b[1;33m\u001b[0m\u001b[0m\n",
      "\u001b[1;32mc:\\users\\soumyadbanik\\appdata\\local\\programs\\python\\python37\\lib\\site-packages\\sklearn\\utils\\validation.py\u001b[0m in \u001b[0;36minner_f\u001b[1;34m(*args, **kwargs)\u001b[0m\n\u001b[0;32m     61\u001b[0m             \u001b[0mextra_args\u001b[0m \u001b[1;33m=\u001b[0m \u001b[0mlen\u001b[0m\u001b[1;33m(\u001b[0m\u001b[0margs\u001b[0m\u001b[1;33m)\u001b[0m \u001b[1;33m-\u001b[0m \u001b[0mlen\u001b[0m\u001b[1;33m(\u001b[0m\u001b[0mall_args\u001b[0m\u001b[1;33m)\u001b[0m\u001b[1;33m\u001b[0m\u001b[1;33m\u001b[0m\u001b[0m\n\u001b[0;32m     62\u001b[0m             \u001b[1;32mif\u001b[0m \u001b[0mextra_args\u001b[0m \u001b[1;33m<=\u001b[0m \u001b[1;36m0\u001b[0m\u001b[1;33m:\u001b[0m\u001b[1;33m\u001b[0m\u001b[1;33m\u001b[0m\u001b[0m\n\u001b[1;32m---> 63\u001b[1;33m                 \u001b[1;32mreturn\u001b[0m \u001b[0mf\u001b[0m\u001b[1;33m(\u001b[0m\u001b[1;33m*\u001b[0m\u001b[0margs\u001b[0m\u001b[1;33m,\u001b[0m \u001b[1;33m**\u001b[0m\u001b[0mkwargs\u001b[0m\u001b[1;33m)\u001b[0m\u001b[1;33m\u001b[0m\u001b[1;33m\u001b[0m\u001b[0m\n\u001b[0m\u001b[0;32m     64\u001b[0m \u001b[1;33m\u001b[0m\u001b[0m\n\u001b[0;32m     65\u001b[0m             \u001b[1;31m# extra_args > 0\u001b[0m\u001b[1;33m\u001b[0m\u001b[1;33m\u001b[0m\u001b[1;33m\u001b[0m\u001b[0m\n",
      "\u001b[1;32mc:\\users\\soumyadbanik\\appdata\\local\\programs\\python\\python37\\lib\\site-packages\\sklearn\\utils\\validation.py\u001b[0m in \u001b[0;36mcheck_X_y\u001b[1;34m(X, y, accept_sparse, accept_large_sparse, dtype, order, copy, force_all_finite, ensure_2d, allow_nd, multi_output, ensure_min_samples, ensure_min_features, y_numeric, estimator)\u001b[0m\n\u001b[0;32m    819\u001b[0m                     \u001b[0mensure_min_samples\u001b[0m\u001b[1;33m=\u001b[0m\u001b[0mensure_min_samples\u001b[0m\u001b[1;33m,\u001b[0m\u001b[1;33m\u001b[0m\u001b[1;33m\u001b[0m\u001b[0m\n\u001b[0;32m    820\u001b[0m                     \u001b[0mensure_min_features\u001b[0m\u001b[1;33m=\u001b[0m\u001b[0mensure_min_features\u001b[0m\u001b[1;33m,\u001b[0m\u001b[1;33m\u001b[0m\u001b[1;33m\u001b[0m\u001b[0m\n\u001b[1;32m--> 821\u001b[1;33m                     estimator=estimator)\n\u001b[0m\u001b[0;32m    822\u001b[0m     \u001b[1;32mif\u001b[0m \u001b[0mmulti_output\u001b[0m\u001b[1;33m:\u001b[0m\u001b[1;33m\u001b[0m\u001b[1;33m\u001b[0m\u001b[0m\n\u001b[0;32m    823\u001b[0m         y = check_array(y, accept_sparse='csr', force_all_finite=True,\n",
      "\u001b[1;32mc:\\users\\soumyadbanik\\appdata\\local\\programs\\python\\python37\\lib\\site-packages\\sklearn\\utils\\validation.py\u001b[0m in \u001b[0;36minner_f\u001b[1;34m(*args, **kwargs)\u001b[0m\n\u001b[0;32m     61\u001b[0m             \u001b[0mextra_args\u001b[0m \u001b[1;33m=\u001b[0m \u001b[0mlen\u001b[0m\u001b[1;33m(\u001b[0m\u001b[0margs\u001b[0m\u001b[1;33m)\u001b[0m \u001b[1;33m-\u001b[0m \u001b[0mlen\u001b[0m\u001b[1;33m(\u001b[0m\u001b[0mall_args\u001b[0m\u001b[1;33m)\u001b[0m\u001b[1;33m\u001b[0m\u001b[1;33m\u001b[0m\u001b[0m\n\u001b[0;32m     62\u001b[0m             \u001b[1;32mif\u001b[0m \u001b[0mextra_args\u001b[0m \u001b[1;33m<=\u001b[0m \u001b[1;36m0\u001b[0m\u001b[1;33m:\u001b[0m\u001b[1;33m\u001b[0m\u001b[1;33m\u001b[0m\u001b[0m\n\u001b[1;32m---> 63\u001b[1;33m                 \u001b[1;32mreturn\u001b[0m \u001b[0mf\u001b[0m\u001b[1;33m(\u001b[0m\u001b[1;33m*\u001b[0m\u001b[0margs\u001b[0m\u001b[1;33m,\u001b[0m \u001b[1;33m**\u001b[0m\u001b[0mkwargs\u001b[0m\u001b[1;33m)\u001b[0m\u001b[1;33m\u001b[0m\u001b[1;33m\u001b[0m\u001b[0m\n\u001b[0m\u001b[0;32m     64\u001b[0m \u001b[1;33m\u001b[0m\u001b[0m\n\u001b[0;32m     65\u001b[0m             \u001b[1;31m# extra_args > 0\u001b[0m\u001b[1;33m\u001b[0m\u001b[1;33m\u001b[0m\u001b[1;33m\u001b[0m\u001b[0m\n",
      "\u001b[1;32mc:\\users\\soumyadbanik\\appdata\\local\\programs\\python\\python37\\lib\\site-packages\\sklearn\\utils\\validation.py\u001b[0m in \u001b[0;36mcheck_array\u001b[1;34m(array, accept_sparse, accept_large_sparse, dtype, order, copy, force_all_finite, ensure_2d, allow_nd, ensure_min_samples, ensure_min_features, estimator)\u001b[0m\n\u001b[0;32m    639\u001b[0m                     \u001b[1;34m\"Reshape your data either using array.reshape(-1, 1) if \"\u001b[0m\u001b[1;33m\u001b[0m\u001b[1;33m\u001b[0m\u001b[0m\n\u001b[0;32m    640\u001b[0m                     \u001b[1;34m\"your data has a single feature or array.reshape(1, -1) \"\u001b[0m\u001b[1;33m\u001b[0m\u001b[1;33m\u001b[0m\u001b[0m\n\u001b[1;32m--> 641\u001b[1;33m                     \"if it contains a single sample.\".format(array))\n\u001b[0m\u001b[0;32m    642\u001b[0m \u001b[1;33m\u001b[0m\u001b[0m\n\u001b[0;32m    643\u001b[0m         \u001b[1;31m# make sure we actually converted to numeric:\u001b[0m\u001b[1;33m\u001b[0m\u001b[1;33m\u001b[0m\u001b[1;33m\u001b[0m\u001b[0m\n",
      "\u001b[1;31mValueError\u001b[0m: Expected 2D array, got 1D array instead:\narray=[1.315 2.214 0.8   1.505 2.142 1.578 1.08  1.45  1.207 1.473 1.416 1.69\n 3.468 2.724 0.904 1.337 1.968 0.795 1.202 1.58  1.582 1.531 1.89  1.3\n 1.284 2.346 1.188 1.272 1.302 1.462 1.713 1.185 1.058 2.347 3.508 1.69\n 0.975 1.638 1.41  2.734 1.993 0.984 1.089 1.609 2.155 2.187 1.811 2.877\n 3.984 1.348 1.139 1.174 1.672 2.096 3.863 1.627 1.094 1.605 1.302 1.555\n 3.192 1.386 1.022 1.81  1.936 3.433 2.577 2.093 3.173 1.419 1.646 0.81\n 1.472 1.739 1.118 1.249 1.25  1.808 1.112 1.08  1.497 0.81  1.939 1.795\n 1.206 1.685 1.636 1.543 1.67  1.356 0.844 1.137 0.8   1.074 2.457 2.555\n 1.302 1.067 1.01  1.277 1.448 1.32  1.574 2.379 1.83  1.207 1.715 1.566\n 1.843 1.12  1.448 1.603 1.326 1.718 1.104 1.52  1.187 1.324 1.012 1.962\n 1.367 2.258 1.74  1.511 0.796 1.83  1.714 1.543 1.321 1.401 1.285 1.202\n 1.344 1.051 1.093 1.991 1.488 1.65  2.605 1.37  1.011 2.295 0.901 1.229\n 1.59  0.966 1.587 2.494 1.616 0.972 3.397 1.265 2.254 1.15  1.843 1.039\n 1.159 1.064 1.127 2.359 1.007 1.156 2.875 3.229 2.711 0.958 1.424 1.655\n 2.494 1.915 1.12  2.372 1.25  1.522 1.261 3.056 1.953 1.677 0.9   0.96\n 3.261 1.17  1.159 1.477 1.34  3.357 1.724 1.162 1.498 0.682 0.99  2.491\n 1.12  1.8   0.539 1.503 0.756 1.22  1.152 2.66  1.582 0.861 1.306 1.416\n 1.291 1.    1.029 0.876 2.212 1.309 0.804 1.441 1.479 2.28  1.104 1.343\n 2.508 1.52  1.1   1.154 2.96  4.303 1.477 1.478 1.276 1.28  1.216 1.169\n 1.119 1.12  1.502 1.452 0.722 1.161 1.06  3.389 1.905 1.176 1.638 1.828\n 1.451 1.939 2.962 2.354 1.08  1.099 1.567 2.068 1.406 1.41  3.599 1.13\n 1.586 1.092 2.159 0.96  1.446 1.212 1.516 3.788 1.981 1.38  1.57  1.182\n 1.606 1.892 0.96  1.329 1.253 1.351 1.639 0.61  2.606 1.232 1.735 0.97\n 1.596 1.479 3.281 1.172 2.356 1.296 0.779 1.006 1.51  1.16  1.77  1.74\n 1.11  1.341 1.591 1.443 0.868 1.58  1.089 0.988 2.462 1.438 0.95  1.289\n 1.685 0.904 1.258 3.164 1.317 1.08  2.484 1.24  2.367 3.741 1.331 2.169\n 1.235 0.904 1.716 1.32  2.17  0.984 0.911 2.846 3.07  1.876 1.517 2.004\n 1.164 1.529 1.329 2.55  1.982 1.485 1.541 2.126 1.436 1.273 2.28  1.211\n 1.204 3.615 1.904 2.163 1.669 1.264 1.294 3.579 1.872 1.146 1.032 1.24\n 1.43  1.371 0.881 1.463 1.043 1.671 1.376 1.152 2.824 1.475 2.309 3.516\n 1.45  1.174 0.888 1.77  1.524 2.11  1.527 0.941 0.962 2.111 2.222 1.039\n 1.616 2.053 1.721 1.697 1.953 2.724 1.587 0.967 2.334 1.04  0.796 1.098\n 1.316 0.723 2.056 1.418 1.204 1.41  1.082 1.462 1.856 2.185 0.963 1.174\n 1.176 1.092 1.188 1.857 1.712 1.255 1.41  0.932 1.401 1.457 1.032 1.917\n 1.189 3.134 1.152 1.91  1.116 1.418 1.073 1.31  1.266 1.921 1.851 1.37\n 1.199 1.082 1.058 1.955 1.144 1.751 1.338 2.109 0.623 1.362 1.643 1.82\n 1.144 2.687 1.577 0.746 1.375 2.79  1.247 1.341 1.838 1.04  1.857 1.653\n 0.884 2.274 1.638 0.832 1.36  0.958 0.838 2.494 0.918 1.103 1.816 1.54\n 2.787 0.625 1.567 1.269 1.264 0.888 1.915 2.278 1.914 1.305 1.776 1.219\n 2.592 1.02  1.695 1.139 2.1   1.727 1.356 1.393 1.516 1.158 0.906 1.457\n 1.559 0.78  0.936 0.795 0.924 1.876 2.575 2.725 2.235 1.1   1.72  2.503\n 0.964 0.864 1.574 2.581 1.089 1.691 1.    1.266 1.392 2.016 1.104 1.768\n 1.253 1.593 1.448 0.901 1.416 0.846 1.12  1.4   1.304 3.838 1.039 2.325\n 1.595 1.12  1.362 2.447 1.608 2.169 1.638 1.789 1.42  1.056 0.972 0.952\n 1.269 2.109 1.179 1.196 1.659 0.76  1.776 1.65  1.381 2.504 1.265 1.366\n 1.439 1.217 1.358 1.456 1.623 1.112 0.93  3.26  2.166 0.933 1.304 1.088\n 0.924 2.896 1.28  1.127 1.011 1.232 3.746 1.406 1.477 2.16  1.549 1.39\n 1.38  1.258 1.882 1.449 1.108 1.59  1.292 1.132 3.134 1.829 1.248 1.711\n 0.97  1.262 1.248 1.94  1.209 2.329 1.354 1.144 1.394 0.888 1.328 1.656\n 1.411 1.013 1.351 1.548 1.252 0.994 2.056 2.306 1.888 1.428 0.924 1.32\n 1.117 1.188 1.115 1.512 1.319 1.427 0.834 1.758 1.601 1.637 0.722 2.484\n 1.407 2.789 1.598 0.795 1.124 1.075 0.795 1.12  1.483 1.621 1.799 1.051\n 1.177 1.506 1.961 2.054 1.766 1.193 2.367 1.287 1.146 2.175 2.258 1.127\n 1.52  3.992 1.289 1.245 1.269 3.881 1.922 1.08  1.466 1.262 1.436 2.002\n 1.093 0.998 1.14  1.26  1.231 1.801 1.887 1.452 1.628 1.004 1.468 0.99\n 1.358 2.136 2.218 1.44  0.956 1.928 1.12  2.846 2.607 1.134 0.611 1.373\n 1.354 1.36  2.372 1.9   0.696 2.085 1.844 1.851 1.595 1.115 3.037 2.03\n 1.183 1.28  1.678 1.327 2.724 1.45  2.992 1.428 1.364 2.442 0.84  1.353\n 1.216 1.596 1.329 2.8   1.126 1.676 0.795 2.161 0.909 1.715 1.039 3.44\n 1.871 1.899 1.392 1.123 3.44  1.009 1.788 2.199 2.205 4.246 2.052 2.212\n 1.175 1.157 1.676 0.588 2.172 3.076 2.307 1.358 1.039 0.904 1.139 1.382\n 0.836 1.41  1.683 1.465 1.871 1.736 1.328 1.578 1.513 1.144 1.082 1.8\n 0.722 1.8   0.957 2.049 1.686 1.05  1.456 1.59  2.652 1.555].\nReshape your data either using array.reshape(-1, 1) if your data has a single feature or array.reshape(1, -1) if it contains a single sample."
     ]
    }
   ],
   "source": [
    "# Train the model using the training sets\n",
    "lin_reg.fit(train_x, train_y)"
   ]
  },
  {
   "cell_type": "code",
   "execution_count": null,
   "metadata": {},
   "outputs": [],
   "source": [
    "# Predict on test set and print evaluation metric\n",
    "# How much does it differ by from "
   ]
  }
 ],
 "metadata": {
  "kernelspec": {
   "display_name": "Python 3",
   "language": "python",
   "name": "python3"
  },
  "language_info": {
   "codemirror_mode": {
    "name": "ipython",
    "version": 3
   },
   "file_extension": ".py",
   "mimetype": "text/x-python",
   "name": "python",
   "nbconvert_exporter": "python",
   "pygments_lexer": "ipython3",
   "version": "3.7.5rc1"
  }
 },
 "nbformat": 4,
 "nbformat_minor": 4
}
