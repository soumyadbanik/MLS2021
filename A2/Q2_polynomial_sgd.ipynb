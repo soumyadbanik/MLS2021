{
 "cells": [
  {
   "cell_type": "markdown",
   "metadata": {},
   "source": [
    "***SOUMYADEEP BANIK***<br>\n",
    "***CS-2***"
   ]
  },
  {
   "cell_type": "code",
   "execution_count": 92,
   "metadata": {},
   "outputs": [],
   "source": [
    "import numpy as np\n",
    "import matplotlib.pyplot as plt"
   ]
  },
  {
   "cell_type": "code",
   "execution_count": 102,
   "metadata": {},
   "outputs": [],
   "source": [
    "# suppose we have received the following data from some sensor\n",
    "data_x = np.linspace(1.0, 10.0, 100)[:, np.newaxis]\n",
    "data_y = np.sin(data_x) + 0.1 * np.power(data_x, 2) + 0.5 * np.random.randn(100, 1)"
   ]
  },
  {
   "cell_type": "code",
   "execution_count": 103,
   "metadata": {},
   "outputs": [
    {
     "data": {
      "text/plain": [
       "LinearRegression()"
      ]
     },
     "execution_count": 103,
     "metadata": {},
     "output_type": "execute_result"
    }
   ],
   "source": [
    "# fit a polynomial of order 6\n",
    "from sklearn.preprocessing import PolynomialFeatures\n",
    "from sklearn.linear_model import LinearRegression\n",
    "poly_reg=PolynomialFeatures(degree=6)\n",
    "X=poly_reg.fit_transform(data_x)\n",
    "poly_reg.fit(X,data_y)\n",
    "lin_reg=LinearRegression()\n",
    "lin_reg.fit(X,data_y)"
   ]
  },
  {
   "cell_type": "code",
   "execution_count": 104,
   "metadata": {},
   "outputs": [
    {
     "data": {
      "image/png": "[encoded data removed]",
      "text/plain": [
       "<Figure size 432x288 with 1 Axes>"
      ]
     },
     "metadata": {
      "needs_background": "light"
     },
     "output_type": "display_data"
    }
   ],
   "source": [
    "#X_grid=X_grid.reshape((len(X_grid),1))\n",
    "plt.scatter(data_x,data_y,color='red')\n",
    "plt.plot(data_x,lin_reg.predict(poly_reg.fit_transform(data_x)),color='blue')\n",
    "plt.xlabel('X')\n",
    "plt.ylabel('Y')\n",
    "plt.show()"
   ]
  },
  {
   "cell_type": "code",
   "execution_count": 111,
   "metadata": {},
   "outputs": [],
   "source": [
    "def cost(X, y, theta):\n",
    "    m=len(X)\n",
    "    y1 =np.sum(theta*X)\n",
    "    return sum(np.sqrt((y1-data_y)**2))/(2*m)"
   ]
  },
  {
   "cell_type": "code",
   "execution_count": 119,
   "metadata": {},
   "outputs": [],
   "source": [
    "# Implement gradient computation and theta update \n",
    "def gradient_descent(X, data_y, theta, alpha):\n",
    "    y1 = np.sum(theta*X)\n",
    "    for i in range(0, X.shape[0]):\n",
    "        theta[i] = theta[i] - alpha*sum((y1-data_y)* X.iloc[:, i])/m\n",
    "    return theta\n",
    "#print(i)"
   ]
  },
  {
   "cell_type": "code",
   "execution_count": null,
   "metadata": {},
   "outputs": [],
   "source": [
    "# Call stochastic gradient descent in the main loop\n",
    "n = X.shape[0]\n",
    "alpha = 0.9\n",
    "sample_size = X.shape[1]\n",
    "epochs = 700\n",
    "theta = np.zeros(n)\n",
    "costs = []\n",
    "for i in range(epochs): \n",
    "    idx = np.random.choice(n, sample_size, replace= False)\n",
    "    gradient_descent(idx, data_y, theta, alpha)\n",
    "    cost_i = cost(X, y, theta)\n",
    "    costs.append(cost_i)\n",
    "return costs, theta"
   ]
  },
  {
   "cell_type": "code",
   "execution_count": null,
   "metadata": {},
   "outputs": [],
   "source": [
    "# predict y_hat using test_x and theta \n",
    "# plot x vs y in blue\n",
    "# plot x vs y_hat in red"
   ]
  },
  {
   "cell_type": "code",
   "execution_count": 124,
   "metadata": {},
   "outputs": [
    {
     "data": {
      "image/png": "[encoded data removed]",
      "text/plain": [
       "<Figure size 432x288 with 1 Axes>"
      ]
     },
     "metadata": {
      "needs_background": "light"
     },
     "output_type": "display_data"
    }
   ],
   "source": [
    "y_model = np.polyval(theta[::-1], np.linspace(0,1,100))\n",
    "plt.plot(np.linspace(0,1,100), y_model, c='g', label='Model')\n",
    "plt.scatter(train_x[:,1], train_y, c='b', label='Train Set')\n",
    "plt.scatter(test_x[:,1], test_y, c='r', label='Test Set')\n",
    "plt.grid()\n",
    "plt.legend(loc='best')\n",
    "plt.xlabel('X')\n",
    "plt.ylabel('Y')\n",
    "plt.xlim(0,1)\n",
    "plt.show()"
   ]
  }
 ],
 "metadata": {
  "kernelspec": {
   "display_name": "Python 3",
   "language": "python",
   "name": "python3"
  },
  "language_info": {
   "codemirror_mode": {
    "name": "ipython",
    "version": 3
   },
   "file_extension": ".py",
   "mimetype": "text/x-python",
   "name": "python",
   "nbconvert_exporter": "python",
   "pygments_lexer": "ipython3",
   "version": "3.7.5rc1"
  }
 },
 "nbformat": 4,
 "nbformat_minor": 4
}
